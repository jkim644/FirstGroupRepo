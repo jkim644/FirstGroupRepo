{
 "cells": [
  {
   "cell_type": "code",
   "execution_count": 1,
   "metadata": {},
   "outputs": [
    {
     "name": "stdin",
     "output_type": "stream",
     "text": [
      "Enter your name Jacly\n",
      "Enter your grade 90\n"
     ]
    },
    {
     "name": "stdout",
     "output_type": "stream",
     "text": [
      "Jacly, you have a B\n"
     ]
    }
   ],
   "source": [
    "name = input(\"Enter your name\")\n",
    "grade = input(\"Enter your grade\")\n",
    "info = (name+\", you have a \")\n",
    "grade = int(grade)\n",
    "if (100 >= grade >= 94):\n",
    "    print(info+\"A\")\n",
    "elif (93 >= grade >= 85):\n",
    "    print(info+\"B\")\n",
    "elif (84 >= grade >= 74):\n",
    "    print(info+\"C\")\n",
    "elif (73 >= grade >= 64):\n",
    "    print(info+\"D\")\n",
    "else:\n",
    "    print(info+\"F\")\n",
    "    \n",
    "# hello"
   ]
  }
 ],
 "metadata": {
  "kernelspec": {
   "display_name": "Python 3",
   "language": "python",
   "name": "python3"
  },
  "language_info": {
   "codemirror_mode": {
    "name": "ipython",
    "version": 3
   },
   "file_extension": ".py",
   "mimetype": "text/x-python",
   "name": "python",
   "nbconvert_exporter": "python",
   "pygments_lexer": "ipython3",
   "version": "3.8.3"
  }
 },
 "nbformat": 4,
 "nbformat_minor": 4
}
