{
 "cells": [
  {
   "cell_type": "code",
   "execution_count": null,
   "metadata": {},
   "outputs": [],
   "source": [
    "grade = input(prompt=\"enter your grade\")\n",
    "print(\"Your grade is \" + grade)\n",
    "grade = int(grade)\n",
    "if (100 >= grade >= 94):\n",
    "    print(\"A\")\n",
    "elif (93 >= grade >= 85):\n",
    "    print(\"B\")\n",
    "elif (84 >= grade >= 74):\n",
    "    print(\"C\")\n",
    "elif (73 >= grade >= 64):\n",
    "    print(\"D\")\n",
    "else:\n",
    "    print(\"F\")"
   ]
  }
 ],
 "metadata": {
  "kernelspec": {
   "display_name": "Python 3",
   "language": "python",
   "name": "python3"
  },
  "language_info": {
   "codemirror_mode": {
    "name": "ipython",
    "version": 3
   },
   "file_extension": ".py",
   "mimetype": "text/x-python",
   "name": "python",
   "nbconvert_exporter": "python",
   "pygments_lexer": "ipython3",
   "version": "3.8.3"
  }
 },
 "nbformat": 4,
 "nbformat_minor": 4
}
